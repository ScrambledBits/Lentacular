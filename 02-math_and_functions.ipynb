{
  "nbformat": 4,
  "nbformat_minor": 0,
  "metadata": {
    "interpreter": {
      "hash": "9f742384696c4f177bb1da80db38cdc0e70212f7e087094cdd5ad8f5d1035388"
    },
    "kernelspec": {
      "display_name": "Python 3.8.10 64-bit ('.env': venv)",
      "name": "python3"
    },
    "language_info": {
      "codemirror_mode": {
        "name": "ipython",
        "version": 3
      },
      "file_extension": ".py",
      "mimetype": "text/x-python",
      "name": "python",
      "nbconvert_exporter": "python",
      "pygments_lexer": "ipython3",
      "version": "3.8.10"
    },
    "orig_nbformat": 4,
    "colab": {
      "name": "02-math_and_functions.ipynb",
      "provenance": [],
      "collapsed_sections": [],
      "include_colab_link": true
    }
  },
  "cells": [
    {
      "cell_type": "markdown",
      "metadata": {
        "id": "view-in-github",
        "colab_type": "text"
      },
      "source": [
        "<a href=\"https://colab.research.google.com/github/JohnQUnknown/Lentacular/blob/master/02-math_and_functions.ipynb\" target=\"_parent\"><img src=\"https://colab.research.google.com/assets/colab-badge.svg\" alt=\"Open In Colab\"/></a>"
      ]
    },
    {
      "cell_type": "markdown",
      "metadata": {
        "id": "9Xfq8MKyAOQS"
      },
      "source": [
        "# Math and functions\n",
        "\n",
        "When talking about functions we're not actually talking about math functions per se, but pieces of code that can be reused in other parts of our scripts with variable inputs to apply the same set of actions.\n",
        "Just like with math functions we pass parameters to the function and get a result out of it."
      ]
    },
    {
      "cell_type": "markdown",
      "metadata": {
        "id": "naoU4vTyAOQZ"
      },
      "source": [
        "Before we go into how functions work in python let's take a look at the basic arithmetic operations and how they are used in Python"
      ]
    },
    {
      "cell_type": "code",
      "metadata": {
        "id": "ay60xd7bAOQb"
      },
      "source": [
        "# Let's define a couple of number variables\n",
        "number1 = 12\n",
        "number2 = 23"
      ],
      "execution_count": null,
      "outputs": []
    },
    {
      "cell_type": "code",
      "metadata": {
        "id": "_UC8ijB4AOQc"
      },
      "source": [
        "# Sum\n",
        "number1 + number2"
      ],
      "execution_count": null,
      "outputs": []
    },
    {
      "cell_type": "code",
      "metadata": {
        "id": "85vgR1boAOQe"
      },
      "source": [
        "# Substraction\n",
        "number1 - number2"
      ],
      "execution_count": null,
      "outputs": []
    },
    {
      "cell_type": "code",
      "metadata": {
        "id": "g3muyI1aAOQe"
      },
      "source": [
        "# Multiplication\n",
        "number1 * number2"
      ],
      "execution_count": null,
      "outputs": []
    },
    {
      "cell_type": "code",
      "metadata": {
        "id": "TLlTl3MZAOQf"
      },
      "source": [
        "# Division\n",
        "number1 / number2"
      ],
      "execution_count": null,
      "outputs": []
    },
    {
      "cell_type": "markdown",
      "metadata": {
        "id": "DRBuw0XhAOQf"
      },
      "source": [
        "## Python functions\n",
        "\n",
        "In python we can define a function that might or might not receive any arguments, but as a general rule of thumb (and Python guidelines) you should always return a value to indicate the end of a function.\n",
        "The general syntax for a function is:\n",
        "\n",
        "```python\n",
        "def function_name(args):\n",
        "    #Do something here\n",
        "    somevalue = 'something'\n",
        "    return somevalue\n",
        "```"
      ]
    },
    {
      "cell_type": "markdown",
      "metadata": {
        "id": "NDYaqolHAOQg"
      },
      "source": [
        "For now we will define four different functions, one for each of the basic arithmetic operations, and they will all accept two arguments"
      ]
    },
    {
      "cell_type": "code",
      "metadata": {
        "id": "mvtX6h-yAOQg"
      },
      "source": [
        "def sum(num1, num2):\n",
        "    return num1 + num2\n",
        "\n",
        "def substract(num1, num2):\n",
        "    return num1 - num2\n",
        "\n",
        "def multiply(num1, num2):\n",
        "    return num1 * num2\n",
        "\n",
        "def divide(num1, num2):\n",
        "    return num1 / num2"
      ],
      "execution_count": null,
      "outputs": []
    },
    {
      "cell_type": "markdown",
      "metadata": {
        "id": "EsrulPowAOQg"
      },
      "source": [
        "After the functions have been defined we can use them anywhere else in our code with any values for the arguments, we don't actually need to define those values beforehand."
      ]
    },
    {
      "cell_type": "code",
      "metadata": {
        "id": "RvPr16u6AOQh"
      },
      "source": [
        "sum(189,12)"
      ],
      "execution_count": null,
      "outputs": []
    },
    {
      "cell_type": "code",
      "metadata": {
        "id": "kGBgGj6GAOQj"
      },
      "source": [
        "substract(238,23)"
      ],
      "execution_count": null,
      "outputs": []
    },
    {
      "cell_type": "code",
      "metadata": {
        "id": "I2QMN0K1AOQk"
      },
      "source": [
        "multiply(123,123)"
      ],
      "execution_count": null,
      "outputs": []
    },
    {
      "cell_type": "code",
      "metadata": {
        "id": "D7mH2kxEAOQl"
      },
      "source": [
        "divide(12234,12)"
      ],
      "execution_count": null,
      "outputs": []
    },
    {
      "cell_type": "markdown",
      "metadata": {
        "id": "WOR5Boi4AOQm"
      },
      "source": [
        "Of course we are assuming that the user will input numbers in the arguments, if other types of values are entered then Python will throw and error and the script won't run, to avoid this we can do some kind of value sanitization but we're not going to touch on that just yet.\n",
        "Here's an example of an error thrown by Python for wrong data types."
      ]
    },
    {
      "cell_type": "code",
      "metadata": {
        "id": "hKV27JJzAOQm"
      },
      "source": [
        "sum(121,'notanumber')"
      ],
      "execution_count": null,
      "outputs": []
    },
    {
      "cell_type": "markdown",
      "metadata": {
        "id": "quCYzPXsAOQn"
      },
      "source": [
        "Functions in python are a very powerful way to define repetitive tasks that need to be applied in different parts of our code to compute with different values."
      ]
    }
  ]
}